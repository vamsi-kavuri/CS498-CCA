{
 "cells": [
  {
   "cell_type": "code",
   "execution_count": 1,
   "metadata": {
    "collapsed": true
   },
   "outputs": [],
   "source": [
    "import netCDF4\n",
    "import numpy as np"
   ]
  },
  {
   "cell_type": "markdown",
   "metadata": {},
   "source": [
    "* HGG: The HGG Product is the global merger of the HGS Products from all available satellites, where overlapping coverage is resolved in favor of the satellite with the best viewing geometry with a preference for geostationary results at lower latitudes and polar orbiter results in the polar regions. The time interval is 3 hr and the map grid is 1-degree-equivalent equal-area. This is the main ISCCP Cloud Product. \n",
    "* HGH: The HGH Product provides the monthly average of the HGG Product at each of eight times-of-day UTC. \n",
    "* HGM: The HGM Product is the average of the eight HGH Products for each month\n",
    "\n",
    "** Remember to run jupyter-notebook from the project directory **"
   ]
  },
  {
   "cell_type": "code",
   "execution_count": 4,
   "metadata": {
    "collapsed": true
   },
   "outputs": [],
   "source": [
    "# read HGG files for a single day\n",
    "# 8 files per day at 3 hour intervals\n",
    "root_dir = 'ISCCP_HGG/'\n",
    "\n",
    "# days = !ls $root_dir\n",
    "# days = ['1991-06-01', '2001-06-01', '2011-06-01']\n",
    "days = ['2011-06-01']\n",
    "files_by_day = dict()\n",
    "for d in days:\n",
    "    hgg_files = !ls $root_dir$d\n",
    "    files_by_day[d] = hgg_files"
   ]
  },
  {
   "cell_type": "code",
   "execution_count": 5,
   "metadata": {
    "collapsed": false
   },
   "outputs": [
    {
     "name": "stdout",
     "output_type": "stream",
     "text": [
      "2011-06-01\n",
      "ISCCP_HGG/2011-06-01/ISCCP-Basic.HGG.v01r00.GLOBAL.2011.06.01.0000.GPC.10KM.CS00.EA1.00.nc\n",
      "ISCCP_HGG/2011-06-01/ISCCP-Basic.HGG.v01r00.GLOBAL.2011.06.01.0300.GPC.10KM.CS00.EA1.00.nc\n",
      "ISCCP_HGG/2011-06-01/ISCCP-Basic.HGG.v01r00.GLOBAL.2011.06.01.0600.GPC.10KM.CS00.EA1.00.nc\n",
      "ISCCP_HGG/2011-06-01/ISCCP-Basic.HGG.v01r00.GLOBAL.2011.06.01.0900.GPC.10KM.CS00.EA1.00.nc\n",
      "ISCCP_HGG/2011-06-01/ISCCP-Basic.HGG.v01r00.GLOBAL.2011.06.01.1200.GPC.10KM.CS00.EA1.00.nc\n",
      "ISCCP_HGG/2011-06-01/ISCCP-Basic.HGG.v01r00.GLOBAL.2011.06.01.1500.GPC.10KM.CS00.EA1.00.nc\n",
      "ISCCP_HGG/2011-06-01/ISCCP-Basic.HGG.v01r00.GLOBAL.2011.06.01.1800.GPC.10KM.CS00.EA1.00.nc\n",
      "ISCCP_HGG/2011-06-01/ISCCP-Basic.HGG.v01r00.GLOBAL.2011.06.01.2100.GPC.10KM.CS00.EA1.00.nc\n"
     ]
    }
   ],
   "source": [
    "# labels = ['mean_cloud_amt_pct','mean_cloud_pres_cnt','mean_cloud_amt_ir_pct',\n",
    "#           'mean_cloud_pres_ir_cnt','mean_surface_skin_temp_cnt', 'mean_surface_refl_cnt',\n",
    "#          'near_surface_air_tmp_cnt','atmos_temp_prof_cnt','max_temp_cnt','tropos_temp_cnt','surface_pres_cnt',\n",
    "#          'tropos_pres_cnt','near_surface_rel_hum_cnt','ozone_abund_cnt']\n",
    "# features = ['cldamt','pc','cldamt_ir','pc_ir','ts','rs','airtemp','temp_profile','tmax','tmptab',\n",
    "#             'psurf','ptrop','rh_nearsurf','ozone']\n",
    "\n",
    "\n",
    "labels = ['snow_ice_pct','cloud_amount','mean_cloud_top_pres',\n",
    "'mean_cloud_top_pres_ir','mean_cloud_top_temp','mean_cloud_top_temp_ir',\n",
    "'mean_cloud_optic_depth','mean_cloud_optic_depth_ir']\n",
    "\n",
    "features = ['snoice','cldamt','pc','pc_ir','tc','tc_ir','tau','tau_ir']\n",
    "\n",
    "for d in files_by_day:\n",
    "    print(d)\n",
    "    for f in files_by_day[d]:\n",
    "        fn = '%s%s/%s' % (root_dir, d, f)\n",
    "        print(fn)\n",
    "        # read the file\n",
    "        ncfile = netCDF4.Dataset(fn, 'r')\n",
    "        \n",
    "        # get the timestamp\n",
    "        date = \"%s-%s-%s\" % (ncfile.isccp_year, ncfile.isccp_month, ncfile.isccp_day)\n",
    "        time = \"%s:00\" % ncfile.isccp_gmt\n",
    "        \n",
    "        # get number of sats\n",
    "        num_sats = ncfile.isccp_number_of_satellites_contributing\n",
    "        \n",
    "        # get features\n",
    "        file = open(\"%s.csv\" % fn, \"a\")\n",
    "        file.write('date,time,lat,lon,snow_ice_pct,cloud_amount,mean_cloud_top_pres,mean_cloud_top_pres_ir,mean_cloud_top_temp,mean_cloud_top_temp_ir,mean_cloud_optic_depth,mean_cloud_optic_depth_ir\\n')\n",
    "\n",
    "        lat_i = 0\n",
    "        for lat in ncfile['lat']:\n",
    "            #print(len(ncfile['lon']))\n",
    "            lon_i = 0\n",
    "            for lon in ncfile['lon']:\n",
    "                if lon_i > 359:\n",
    "                    print('breaking on lon_i=',lon_i)\n",
    "                    break\n",
    "                    \n",
    "                dp = '%s,%s,%s,%s,' % (date,time,lat,lon)\n",
    "                for fs in features:\n",
    "                    v = ncfile[fs][0][lat_i][lon_i]\n",
    "                    if isinstance(np.ma.min(v), np.ma.core.MaskedConstant):\n",
    "                        v = -32767\n",
    "                        #print('foo')\n",
    "\n",
    "                    if fs == 'tau_ir':\n",
    "                        dp = dp + '%f' % (v)\n",
    "                    else:\n",
    "                        # d = d + '%f,' % (v)\n",
    "                        dp = dp + '%f,' % (v)\n",
    "                # print(d)\n",
    "                #print(fs,lat,lat_i,lon,lon_i)\n",
    "                file.write('%s\\n' % (dp))\n",
    "                lon_i += 1\n",
    "            lat_i += 1\n",
    "\n",
    "        file.close()"
   ]
  },
  {
   "cell_type": "code",
   "execution_count": null,
   "metadata": {
    "collapsed": true
   },
   "outputs": [],
   "source": [
    "days"
   ]
  },
  {
   "cell_type": "code",
   "execution_count": null,
   "metadata": {
    "collapsed": true
   },
   "outputs": [],
   "source": []
  },
  {
   "cell_type": "code",
   "execution_count": null,
   "metadata": {
    "collapsed": true
   },
   "outputs": [],
   "source": []
  }
 ],
 "metadata": {
  "kernelspec": {
   "display_name": "Python 3",
   "language": "python",
   "name": "python3"
  },
  "language_info": {
   "codemirror_mode": {
    "name": "ipython",
    "version": 3
   },
   "file_extension": ".py",
   "mimetype": "text/x-python",
   "name": "python",
   "nbconvert_exporter": "python",
   "pygments_lexer": "ipython3",
   "version": "3.5.3"
  }
 },
 "nbformat": 4,
 "nbformat_minor": 2
}
